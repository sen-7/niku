{
 "cells": [
  {
   "cell_type": "code",
   "execution_count": 1,
   "metadata": {},
   "outputs": [],
   "source": [
    "#!/bin/python3\n",
    "\n",
    "import numpy as np\n",
    "import os\n",
    "from matplotlib import pyplot as plt\n",
    "from matplotlib.colors import LinearSegmentedColormap\n",
    "from IPython.display import display, Markdown\n",
    "\n",
    "def plot_snap(tmp, i, nx, xmax, dt, t0, t1):\n",
    "    cdict1 = {'red':   ((0.0, 1.0, 1.0),\n",
    "                        (0.5, 1.0, 1.0),\n",
    "                        (0.8, 0.6, 0.6),\n",
    "                        (1.0, 0.6, 0.6)),\n",
    "              'green': ((0.0, 0.2, 0.2),\n",
    "                        (0.5, 0.2, 0.2),\n",
    "                        (0.8, 0.5, 0.5),\n",
    "                        (1.0, 0.5, 0.5)),\n",
    "              'blue':  ((0.0, 0.3, 0.3),\n",
    "                        (0.5, 0.3, 0.3),\n",
    "                        (0.8, 0.4, 0.4),\n",
    "                        (1.0, 0.4, 0.4)) }\n",
    "    mycm = LinearSegmentedColormap('mycm', cdict1)\n",
    "  \n",
    "    xdim = 10\n",
    "    data = np.zeros((nx*2,xdim))\n",
    "    for k in range(xdim):\n",
    "        data[0:nx,   k] = tmp\n",
    "        data[nx:2*nx,k] = tmp[::-1]\n",
    "    fig, ax = plt.subplots(1)\n",
    "    map1 = ax.imshow(data, cmap=mycm, interpolation=\"bilinear\", aspect=\"auto\")\n",
    "    # map1 = ax.pcolor(data, cmap=mycm)\n",
    "    map1.set_clim(0, 100.0)\n",
    "    plt.tick_params(axis=\"x\", which=\"both\", bottom=\"off\", top=\"off\", labelbottom=\"off\")\n",
    "    plt.tick_params(axis=\"y\", which=\"both\", left=\"off\", right=\"off\", labelleft=\"off\")\n",
    "    cbar = plt.colorbar(map1)\n",
    "  \n",
    "    levels = np.arange(0, 100.01, 10) # boost the upper limit to avoid truncation errors\n",
    "    extent = (-0.5, xdim-0.5, 0, nx*2-1)\n",
    "    map2 = ax.contour(data, levels, colors=\"w\", extent=extent) # , origin=\"lower\")\n",
    "    ax.clabel(map2, fmt=\"%02d\", colors=\"w\")\n",
    "  \n",
    "    plt.title(\"[%d cm, init %i deg, boundary %i deg] t = %isec\" % (xmax*2*100, t0, t1, i*dt))\n",
    "    plt.savefig(\"./img/%06i.png\" % i)\n",
    "    plt.close()"
   ]
  },
  {
   "cell_type": "code",
   "execution_count": 2,
   "metadata": {
    "code_folding": [
     24
    ]
   },
   "outputs": [
    {
     "name": "stdout",
     "output_type": "stream",
     "text": [
      "Initial temperature [10 C] : \n",
      "Boundary temperature [75 C] : \n",
      "Thickness [4 cm] : \n",
      "Curvature (0 for slab, 1 for cylinder, 2 for sphere) [0] : \n",
      "acceleration (1 for accurate) [3] : \n",
      "finish plotting\n"
     ]
    }
   ],
   "source": [
    "ch = 1.1e-7 # m2s-1\n",
    "\n",
    "t0 = float(input(\"Initial temperature [10 C] : \") or \"10\")\n",
    "t1 = float(input(\"Boundary temperature [75 C] : \") or \"75\")\n",
    "xmax = float(input(\"Thickness [4 cm] : \") or \"4\") * 0.005\n",
    "curvature = float(input(\"Curvature (0 for slab, 1.0 for cylinder, 2.0 for sphere) [0] : \") or \"0\")\n",
    "accel = float(input(\"acceleration (type 1 for accuracy) [3] : \") or \"3\")\n",
    "\n",
    "nsec = 100.0 * 2.5 * (xmax / 0.005)**2\n",
    "dt = 0.01 * (xmax / 0.005)**2 * (accel)**2\n",
    "dx = xmax / 25 * accel\n",
    "nx = int(xmax / dx)\n",
    "nstep = int(nsec / dt)\n",
    "\n",
    "# initialize\n",
    "tmp = np.full((nx,), t0)\n",
    "tmp[0] = t1\n",
    "dtmp = np.empty((nx,))\n",
    "os.system(\"mkdir -p img\")\n",
    "os.system(\"rm -f img/*\")\n",
    "\n",
    "r = np.linspace(xmax, 0, nx, endpoint=False) + dx / 2\n",
    "\n",
    "plot_intvl = 200\n",
    "for i in range(nstep):\n",
    "    if (i % plot_intvl == 0):\n",
    "        plot_snap(tmp, i, nx, xmax, dt, t0, t1)\n",
    "  \n",
    "    # boundary condition tmp[0] = t1, tmp[nx] = tmp[nx-1]\n",
    "    # see a34p5-8 for different shape\n",
    "    dtmp[0] = 0.0\n",
    "    dtmp[1:nx-1] = ch * dt * ((tmp[2:nx] - 2.0 * tmp[1:nx-1] + tmp[0:nx-2]) / (dx * dx) \\\n",
    "                              + curvature / r[1:nx-1] * (tmp[0:nx-2] - tmp[2:nx]) / (2 * dx))\n",
    "    dtmp[nx-1] = ch * dt * ((tmp[nx-1] - 2.0 * tmp[nx-1] + tmp[nx-2]) / (dx * dx) \\\n",
    "                              + curvature / r[nx-1] * (tmp[nx-2] - tmp[nx-1]) / dx)\n",
    "    tmp[:] = tmp[:] + dtmp[:]\n",
    "\n",
    "os.system(\"convert -delay %d -loop 0 ./img/*.png ./img/all.gif\" % (15 * accel))\n",
    "os.system(\"rm -f img/*.png\")\n",
    "\n",
    "print(\"finish plotting\")"
   ]
  },
  {
   "cell_type": "code",
   "execution_count": 3,
   "metadata": {
    "scrolled": true
   },
   "outputs": [
    {
     "data": {
      "text/markdown": [
       "![](img/all.gif)"
      ],
      "text/plain": [
       "<IPython.core.display.Markdown object>"
      ]
     },
     "metadata": {},
     "output_type": "display_data"
    }
   ],
   "source": [
    "display(Markdown(\"![](img/all.gif)\"))"
   ]
  },
  {
   "cell_type": "markdown",
   "metadata": {
    "collapsed": true
   },
   "source": [
    "## 解いている方程式\n",
    "$\\frac{dT}{dt} = \\kappa \\left[ \\frac{d^2T}{dr^2} + \\frac{a}{r} \\frac{dT}{dr} \\right]$\n",
    "\n",
    "ただし$a$は平面で0、円柱形で1、球形で2。$\\kappa = \\rm 1.1E-7 [m^2/s]$は熱拡散係数。\n",
    "\n"
   ]
  },
  {
   "cell_type": "code",
   "execution_count": null,
   "metadata": {
    "collapsed": true
   },
   "outputs": [],
   "source": []
  }
 ],
 "metadata": {
  "kernelspec": {
   "display_name": "Python 3",
   "language": "python",
   "name": "python3"
  },
  "language_info": {
   "codemirror_mode": {
    "name": "ipython",
    "version": 3
   },
   "file_extension": ".py",
   "mimetype": "text/x-python",
   "name": "python",
   "nbconvert_exporter": "python",
   "pygments_lexer": "ipython3",
   "version": "3.6.1"
  }
 },
 "nbformat": 4,
 "nbformat_minor": 2
}
